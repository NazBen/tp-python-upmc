{
 "cells": [
  {
   "cell_type": "code",
   "execution_count": 2,
   "metadata": {
    "collapsed": true
   },
   "outputs": [],
   "source": [
    "import math\n",
    "import matplotlib.pyplot as plt\n",
    "\n",
    "%matplotlib inline"
   ]
  },
  {
   "cell_type": "code",
   "execution_count": 4,
   "metadata": {},
   "outputs": [
    {
     "data": {
      "text/plain": [
       "[<matplotlib.lines.Line2D at 0xad46564c>]"
      ]
     },
     "execution_count": 4,
     "metadata": {},
     "output_type": "execute_result"
    },
    {
     "data": {
      "image/png": "[encoded data removed]",
      "text/plain": [
       "<matplotlib.figure.Figure at 0xad4b72ac>"
      ]
     },
     "metadata": {},
     "output_type": "display_data"
    }
   ],
   "source": [
    "n = 50\n",
    "\n",
    "# On initialize les listes\n",
    "x_k = []\n",
    "y_k = []\n",
    "\n",
    "# Pour chaque itération:\n",
    "for k in range(n):\n",
    "    # 1. Calcul de x et y\n",
    "    x = 2 * math.pi * k / n\n",
    "    y = math.cos(x)\n",
    "    # 2. Incrémentation les listes\n",
    "    x_k.append(x)\n",
    "    y_k.append(y)\n",
    "\n",
    "# On plot le résultat\n",
    "plt.plot(x_k, y_k)"
   ]
  },
  {
   "cell_type": "markdown",
   "metadata": {},
   "source": [
    "Nous voulons écrire une fonction qui prend en argument un nom de fichier et une liste de listes de valeurs à enregistrer en colone."
   ]
  },
  {
   "cell_type": "code",
   "execution_count": 36,
   "metadata": {},
   "outputs": [],
   "source": [
    "# On définit la fonction avec la docstring (prendre l'habitude de le faire tout le temps)\n",
    "def ecriture_fichier(nom_fichier, *args):\n",
    "    \"\"\"Ecrit les valeurs de listes dans un fichier.\n",
    "    \n",
    "    Parameters\n",
    "    ----------\n",
    "    nom_fichier : str\n",
    "        Un nom de fichier ou un emplacement.\n",
    "    *args : list\n",
    "        Une ou plusieurs listes de même taille.\n",
    "    \"\"\"\n",
    "    # Ouverture du fichier\n",
    "    num_fichier = open(nom_fichier, 'w')\n",
    "    \n",
    "    # \"args\" est (en quelque sorte) un tuple des elements mis en arguments. \n",
    "    # La fonction \"zip\" permet de parcourir simultanément chaque \"itérable\" donné en argument.\n",
    "    # Mettre le \"*\" devant args indique (en quelque sorte) que nous ajoutons en argument tous les\n",
    "    # éléments du tuple args. Ce qui n'est pas la même que de donner directement le tuple args\n",
    "    # en argument.\n",
    "    for line_values in zip(*args):\n",
    "        # La méthode \"join\" permet de lier chaque élément d'une liste dans un string.\n",
    "        # La fonction \"map\" évalue une chaque élément d'une liste par une fonction.\n",
    "        # Ici chaque élément de line_values est évalué par str pour les convertir en string.  \n",
    "        line = \" \".join(map(str, line_values))\n",
    "        # On écrit le résultat, sans oublie de mettre un \"\\n\" pour indiquer le saut de ligne.\n",
    "        num_fichier.write('%s\\n' % (line))\n",
    "    num_fichier.close()\n",
    "    \n",
    "# Même chose, mais avec un \"context manager\": with (cela remplace l'ouverture et la fermeture du fichier).\n",
    "def ecriture_fichier(nom_fichier, *args):\n",
    "    \"\"\"Ecrit les valeurs de listes dans un fichier.\n",
    "    \n",
    "    Parameters\n",
    "    ----------\n",
    "    nom_fichier : str\n",
    "        Un nom de fichier ou un emplacement.\n",
    "    *args : list\n",
    "        Une ou plusieurs listes de même taille.\n",
    "    \"\"\"\n",
    "    with open(nom_fichier, 'w') as file:\n",
    "        for line_values in zip(*args):\n",
    "            line = \" \".join(map(str, line_values))\n",
    "            file.write('%s\\n' % (line))\n",
    "    \n",
    "nom_fichier = 'exo1.csv'\n",
    "ecriture_fichier(nom_fichier, x_k, y_k)"
   ]
  },
  {
   "cell_type": "code",
   "execution_count": 53,
   "metadata": {
    "collapsed": true
   },
   "outputs": [],
   "source": [
    "def lecture_fichier(nom_fichier):\n",
    "    \"\"\"Lecture d'un fichier de valeurs par colonne.\n",
    "    \n",
    "    Parameters\n",
    "    ----------\n",
    "    nom_fichier : str\n",
    "        Le fichier à lire.\n",
    "        \n",
    "    Return\n",
    "    ------\n",
    "    result : tuple\n",
    "        Un tuple des résultat en colunne.\n",
    "    \"\"\"\n",
    "    with open(nom_fichier) as file:\n",
    "        # Nous parcourons chaque ligne du fichier\n",
    "        values = []\n",
    "        for line in file:\n",
    "            # La fonction sépare le string en une liste et la fonction map les transforme en flotant.\n",
    "            line_values = map(float, line.split())\n",
    "            values.append(line_values)\n",
    "        result = zip(*values)\n",
    "    return result\n",
    "    \n",
    "x_k, y_k = lecture_fichier(nom_fichier)"
   ]
  },
  {
   "cell_type": "code",
   "execution_count": 58,
   "metadata": {},
   "outputs": [
    {
     "data": {
      "text/plain": [
       "<matplotlib.legend.Legend at 0xac7a1fec>"
      ]
     },
     "execution_count": 58,
     "metadata": {},
     "output_type": "execute_result"
    },
    {
     "data": {
      "image/png": "[encoded data removed]",
      "text/plain": [
       "<matplotlib.figure.Figure at 0xac8b38ac>"
      ]
     },
     "metadata": {},
     "output_type": "display_data"
    }
   ],
   "source": [
    "z_k = []\n",
    "for x in x_k:\n",
    "    z_k.append(math.sin(x))\n",
    "    \n",
    "# Peut être fait en une ligne aussi\n",
    "z_k = [math.sin(x) for x in x_k]\n",
    "\n",
    "plt.plot(x_k, y_k, label='$y_k$')\n",
    "plt.plot(x_k, z_k, label='$z_k$')\n",
    "plt.xlabel('$x_k$')\n",
    "plt.legend(loc=0)"
   ]
  },
  {
   "cell_type": "code",
   "execution_count": 59,
   "metadata": {
    "collapsed": true
   },
   "outputs": [],
   "source": [
    "ecriture_fichier('fichier.txt', x_k, y_k, z_k)"
   ]
  },
  {
   "cell_type": "code",
   "execution_count": 5,
   "metadata": {
    "collapsed": true
   },
   "outputs": [],
   "source": [
    "!rm fichier.txt exo1.csv"
   ]
  }
 ],
 "metadata": {
  "kernelspec": {
   "display_name": "Python 2",
   "language": "python",
   "name": "python2"
  },
  "language_info": {
   "codemirror_mode": {
    "name": "ipython",
    "version": 2
   },
   "file_extension": ".py",
   "mimetype": "text/x-python",
   "name": "python",
   "nbconvert_exporter": "python",
   "pygments_lexer": "ipython2",
   "version": "2.7.13"
  }
 },
 "nbformat": 4,
 "nbformat_minor": 2
}
