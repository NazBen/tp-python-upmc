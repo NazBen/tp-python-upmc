{
 "cells": [
  {
   "cell_type": "code",
   "execution_count": 14,
   "metadata": {},
   "outputs": [
    {
     "data": {
      "text/plain": [
       "[0, 1, 4, 5, 6, 7]"
      ]
     },
     "execution_count": 14,
     "metadata": {},
     "output_type": "execute_result"
    }
   ],
   "source": [
    "items_origin = [0, 5, 7, 6, 1, 4]\n",
    "items = list(items_origin)\n",
    "items.sort()\n",
    "items"
   ]
  },
  {
   "cell_type": "code",
   "execution_count": 15,
   "metadata": {
    "scrolled": true
   },
   "outputs": [
    {
     "data": {
      "text/plain": [
       "[0, 1, 4, 5, 6, 7]"
      ]
     },
     "execution_count": 15,
     "metadata": {},
     "output_type": "execute_result"
    }
   ],
   "source": [
    "items = list(items_origin)\n",
    "\n",
    "def selection(items, start):\n",
    "    # On sauvegarde l'emplacement de depart\n",
    "    min_item = start\n",
    "    # On boucle entre l'emplacement de depart et la fin\n",
    "    for k in range(start + 1, len(items)):\n",
    "        # On verifie si l'element à la position k est est plus petit\n",
    "        if items[k] < items[min_item]:\n",
    "            # cet element devrait etre le plus petit de toute la liste\n",
    "            min_item = k\n",
    "            \n",
    "    # S'il y a bien eu un element plus petit\n",
    "    if min_item != start:\n",
    "        # On les echange\n",
    "        items[start], items[min_item] = items[min_item], items[start]\n",
    "def tri_selection(items):\n",
    "    # Pour chaque element de la liste (sauf le dernier)\n",
    "    for j in range(len(items)-1):\n",
    "        selection(items, j)\n",
    "        \n",
    "tri_selection(items)\n",
    "items"
   ]
  },
  {
   "cell_type": "code",
   "execution_count": 16,
   "metadata": {},
   "outputs": [
    {
     "data": {
      "text/plain": [
       "[0, 1, 4, 5, 6, 7]"
      ]
     },
     "execution_count": 16,
     "metadata": {},
     "output_type": "execute_result"
    }
   ],
   "source": [
    "items = list(items_origin)\n",
    "\n",
    "def insertion(items, j):\n",
    "    # On s'assure que j soit bien superieur a 0 et o verifie si l'element j est plus petit que l'element j-1\n",
    "    if j > 0 and items[j] < items[j-1]:\n",
    "        # Si c'est le cas, on echange leurs valeurs et on continue pour les elements suivants\n",
    "        items[j-1], items[j] = items[j], items[j-1]\n",
    "        insertion(items, j-1)\n",
    "        \n",
    "def tri_insertion(items):\n",
    "    # On commence au 2e element.\n",
    "    for k in range(1, len(items)):\n",
    "        # On trie l'element k parmi les elements 0, k-1\n",
    "        insertion(items, k)\n",
    "    \n",
    "tri_insertion(items)\n",
    "items"
   ]
  },
  {
   "cell_type": "code",
   "execution_count": null,
   "metadata": {
    "collapsed": true
   },
   "outputs": [],
   "source": [
    "def partition(items):\n",
    "    p = g\n",
    "    pivot = items[g]\n",
    "    for k in range(g+1, d):\n",
    "        if items[k] < pivot:\n",
    "            p +=1\n",
    "            items[p], items[k] = items[k], items[p]\n",
    "    items[p], items[g] = items[g], items[p]\n",
    "    return p\n",
    "\n",
    "def quicksort(t):\n",
    "    def tri(g,d):\n",
    "        if g<d:\n",
    "            p=partition(t,g,d)\n",
    "            tri(g,p)\n",
    "        tri(p+1,d)\n",
    "    tri(0,len(t))"
   ]
  },
  {
   "cell_type": "code",
   "execution_count": 34,
   "metadata": {},
   "outputs": [
    {
     "data": {
      "text/plain": [
       "[0, 1, 4, 5, 6, 7]"
      ]
     },
     "execution_count": 34,
     "metadata": {},
     "output_type": "execute_result"
    }
   ],
   "source": [
    "items = list(items_origin)\n",
    "def quicksort(items):\n",
    "    # Si la liste est vide, nous renvoyons une liste vide.\n",
    "    if items == []:\n",
    "        return []\n",
    "    else:\n",
    "        # On prends par defaut, l'element 0 comme pivot\n",
    "        pivot = items[0]\n",
    "        \n",
    "        # On initialise les tableaux de gauche et de droite\n",
    "        items_l = []\n",
    "        items_r = []\n",
    "        # Pour tous les elements autres que le pivot\n",
    "        for x in items[1:]:\n",
    "            # On verifie si lelement est plus petit que le pivot\n",
    "            if x < pivot:\n",
    "                # Si oui, on le place dans le tableau de gauche\n",
    "                items_l.append(x)\n",
    "            else:\n",
    "                # Sinon, on le met a droite\n",
    "                items_r.append(x)\n",
    "        # A la fin, nous repetons la même operation sur les tableaux de gauche et de droite\n",
    "        # Tout en mettant le pivot entre les deux.\n",
    "        # Notons qu'on python nous pouvons concatener des listes avec des +.\n",
    "        return quicksort(items_l) + [pivot] + quicksort(items_r)\n",
    "    \n",
    "def partition(items):\n",
    "    \n",
    "    \n",
    "items = quicksort(items)\n",
    "items"
   ]
  },
  {
   "cell_type": "code",
   "execution_count": 43,
   "metadata": {},
   "outputs": [
    {
     "data": {
      "text/plain": [
       "(3, [3, 1, 2, 5, 9, 7, 10, 8])"
      ]
     },
     "execution_count": 43,
     "metadata": {},
     "output_type": "execute_result"
    }
   ],
   "source": [
    "def partition(items):\n",
    "    pivot = items[0]\n",
    "    p=0\n",
    "    for k in range(1, len(items)):\n",
    "        if items[k] < pivot:\n",
    "            p+=1\n",
    "            items[p], items[k] = items[k], items[p]\n",
    "    items[p], items[0] = items[0], items[p]\n",
    "    return p, items\n",
    "\n",
    "def tri_rapide(items):\n",
    "    items_l = []\n",
    "    items_r = []\n",
    "    items_l, items_r = partition(items)\n",
    "    \n",
    "\n",
    "partition([5, 1, 2, 9, 3, 7, 10, 8])"
   ]
  },
  {
   "cell_type": "code",
   "execution_count": null,
   "metadata": {
    "collapsed": true
   },
   "outputs": [],
   "source": [
    "import time\n",
    "import random\n"
   ]
  }
 ],
 "metadata": {
  "kernelspec": {
   "display_name": "Python 2",
   "language": "python",
   "name": "python2"
  },
  "language_info": {
   "codemirror_mode": {
    "name": "ipython",
    "version": 2
   },
   "file_extension": ".py",
   "mimetype": "text/x-python",
   "name": "python",
   "nbconvert_exporter": "python",
   "pygments_lexer": "ipython2",
   "version": "2.7.13"
  }
 },
 "nbformat": 4,
 "nbformat_minor": 2
}
